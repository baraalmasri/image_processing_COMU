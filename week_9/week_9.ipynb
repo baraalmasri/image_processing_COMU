{
 "cells": [
  {
   "cell_type": "code",
   "execution_count": 2,
   "metadata": {},
   "outputs": [],
   "source": [
    "#k means algorıtması\n",
    "import numpy as np\n",
    "import matplotlib.pyplot as plt "
   ]
  },
  {
   "cell_type": "code",
   "execution_count": 4,
   "metadata": {},
   "outputs": [
    {
     "data": {
      "text/plain": [
       "([1, 3, 4, 7], [2, -3, 14, 3])"
      ]
     },
     "execution_count": 4,
     "metadata": {},
     "output_type": "execute_result"
    }
   ],
   "source": [
    "v_1=[1,3,4,7]\n",
    "v_2=[2,-3,14,3]\n",
    "v_1,v_2"
   ]
  },
  {
   "cell_type": "code",
   "execution_count": 5,
   "metadata": {},
   "outputs": [
    {
     "data": {
      "text/plain": [
       "[1, 3, 4, 7, 2, -3, 14, 3]"
      ]
     },
     "execution_count": 5,
     "metadata": {},
     "output_type": "execute_result"
    }
   ],
   "source": [
    "v_1+v_2"
   ]
  },
  {
   "cell_type": "code",
   "execution_count": 9,
   "metadata": {},
   "outputs": [],
   "source": [
    "def my_add (vector_1,vector_2):\n",
    "    vector_3=[0,0]\n",
    "    vector_3[0]=vector_1[0]+vector_2[0]  #sadce birinci eleman\n",
    "    vector_3[1]=vector_1[1]+vector_2[1]  #saece ikinci eleman\n",
    "    return vector_3\n",
    "\n",
    "def my_add1(vec_1,vec_2):\n",
    "    s= len(vec_1)\n",
    "    result_vec=[]\n",
    "    \n",
    "    for i in range(s):\n",
    "        temp= vec_1[i]+vec_2[i]\n",
    "        result_vec.append(temp)\n",
    "    return result_vec\n",
    "        "
   ]
  },
  {
   "cell_type": "code",
   "execution_count": 7,
   "metadata": {},
   "outputs": [
    {
     "data": {
      "text/plain": [
       "[3, 0]"
      ]
     },
     "execution_count": 7,
     "metadata": {},
     "output_type": "execute_result"
    }
   ],
   "source": [
    "my_add (v_1,v_2)"
   ]
  },
  {
   "cell_type": "code",
   "execution_count": 10,
   "metadata": {},
   "outputs": [
    {
     "data": {
      "text/plain": [
       "[3, 0, 18, 10]"
      ]
     },
     "execution_count": 10,
     "metadata": {},
     "output_type": "execute_result"
    }
   ],
   "source": [
    "my_add1 (v_1,v_2)"
   ]
  },
  {
   "cell_type": "code",
   "execution_count": 11,
   "metadata": {},
   "outputs": [],
   "source": [
    "import random"
   ]
  },
  {
   "cell_type": "code",
   "execution_count": 18,
   "metadata": {},
   "outputs": [
    {
     "data": {
      "text/plain": [
       "[[3, -7], [10, -10], [-1, -8], [-7, 0], [-9, -2]]"
      ]
     },
     "execution_count": 18,
     "metadata": {},
     "output_type": "execute_result"
    }
   ],
   "source": [
    "def my_create_vectors(m=5 , n=2):\n",
    "    \n",
    "    my_vec=[]\n",
    "\n",
    "    for i in  range(m):\n",
    "        my_vec.append([])\n",
    "        for j in range(n):\n",
    "            t =random.randint(-10,10)\n",
    "            my_vec[i].append(t)\n",
    "    return my_vec\n",
    "\n",
    "my_create_vectors()"
   ]
  },
  {
   "cell_type": "code",
   "execution_count": 20,
   "metadata": {},
   "outputs": [],
   "source": [
    "def my_center (vec_1,vec_2):\n",
    "    s= len(vec_1)\n",
    "    result_vec=[]\n",
    "    \n",
    "    for i in range(s):\n",
    "        temp= vec_1[i]+vec_2[i]/2\n",
    "        result_vec.append(temp)\n",
    "    return result_vec"
   ]
  },
  {
   "cell_type": "code",
   "execution_count": 21,
   "metadata": {},
   "outputs": [
    {
     "data": {
      "text/plain": [
       "[2.0, 1.5, 11.0, 8.5]"
      ]
     },
     "execution_count": 21,
     "metadata": {},
     "output_type": "execute_result"
    }
   ],
   "source": [
    "my_center (v_1,v_2)"
   ]
  },
  {
   "cell_type": "code",
   "execution_count": 24,
   "metadata": {},
   "outputs": [],
   "source": [
    "#iki nokta arasindaki uzaklik bulan fonkisyonu \n",
    "def my_distance(v_1,v_2):\n",
    "    s=len(v_1)\n",
    "    t=0 \n",
    "    \n",
    "    for i  in range(s):\n",
    "        t= t+ ((v_1[i] - v_2[i])**2)\n",
    "    return t**0.5   # karekoku olarak return ediyoruz "
   ]
  },
  {
   "cell_type": "code",
   "execution_count": 25,
   "metadata": {},
   "outputs": [],
   "source": [
    "vector_1=[0,4]\n",
    "vector_2=[3,0]"
   ]
  },
  {
   "cell_type": "code",
   "execution_count": 26,
   "metadata": {},
   "outputs": [
    {
     "data": {
      "text/plain": [
       "5.0"
      ]
     },
     "execution_count": 26,
     "metadata": {},
     "output_type": "execute_result"
    }
   ],
   "source": [
    "my_distance(vector_1,vector_2)"
   ]
  },
  {
   "cell_type": "code",
   "execution_count": null,
   "metadata": {},
   "outputs": [],
   "source": []
  },
  {
   "cell_type": "code",
   "execution_count": null,
   "metadata": {},
   "outputs": [],
   "source": []
  },
  {
   "cell_type": "code",
   "execution_count": null,
   "metadata": {},
   "outputs": [],
   "source": []
  },
  {
   "cell_type": "code",
   "execution_count": null,
   "metadata": {},
   "outputs": [],
   "source": []
  },
  {
   "cell_type": "code",
   "execution_count": null,
   "metadata": {},
   "outputs": [],
   "source": []
  }
 ],
 "metadata": {
  "kernelspec": {
   "display_name": "Python 3",
   "language": "python",
   "name": "python3"
  },
  "language_info": {
   "codemirror_mode": {
    "name": "ipython",
    "version": 3
   },
   "file_extension": ".py",
   "mimetype": "text/x-python",
   "name": "python",
   "nbconvert_exporter": "python",
   "pygments_lexer": "ipython3",
   "version": "3.7.5"
  }
 },
 "nbformat": 4,
 "nbformat_minor": 2
}
