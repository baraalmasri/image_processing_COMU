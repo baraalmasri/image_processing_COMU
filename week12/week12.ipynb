{
  "nbformat": 4,
  "nbformat_minor": 0,
  "metadata": {
    "colab": {
      "name": "week12.ipynb",
      "provenance": []
    },
    "kernelspec": {
      "name": "python3",
      "display_name": "Python 3"
    }
  },
  "cells": [
    {
      "cell_type": "code",
      "metadata": {
        "id": "875Z-9ltRnLK",
        "colab_type": "code",
        "colab": {
          "base_uri": "https://localhost:8080/",
          "height": 104
        },
        "outputId": "ecba1024-163f-4fda-a314-7b7cc9440a8f"
      },
      "source": [
        "from sklearn.datasets import fetch_mldata\n",
        "mnist = fetch_mldata('MNIST original')\n",
        "X, y = mnist[\"data\"], mnist[\"target\"]"
      ],
      "execution_count": 1,
      "outputs": [
        {
          "output_type": "stream",
          "text": [
            "/usr/local/lib/python3.6/dist-packages/sklearn/utils/deprecation.py:85: DeprecationWarning: Function fetch_mldata is deprecated; fetch_mldata was deprecated in version 0.20 and will be removed in version 0.22. Please use fetch_openml.\n",
            "  warnings.warn(msg, category=DeprecationWarning)\n",
            "/usr/local/lib/python3.6/dist-packages/sklearn/utils/deprecation.py:85: DeprecationWarning: Function mldata_filename is deprecated; mldata_filename was deprecated in version 0.20 and will be removed in version 0.22. Please use fetch_openml.\n",
            "  warnings.warn(msg, category=DeprecationWarning)\n"
          ],
          "name": "stderr"
        }
      ]
    },
    {
      "cell_type": "code",
      "metadata": {
        "id": "wBteeyJvRpfe",
        "colab_type": "code",
        "colab": {}
      },
      "source": [
        "X = X / 255"
      ],
      "execution_count": 0,
      "outputs": []
    },
    {
      "cell_type": "code",
      "metadata": {
        "id": "YF8HDmBgRqqv",
        "colab_type": "code",
        "colab": {}
      },
      "source": [
        "import numpy as np\n",
        "\n",
        "y_new = np.zeros(y.shape)\n",
        "y_new[np.where(y == 0.0)[0]] = 1\n",
        "y = y_new"
      ],
      "execution_count": 0,
      "outputs": []
    },
    {
      "cell_type": "code",
      "metadata": {
        "id": "4hBPERwxRqxF",
        "colab_type": "code",
        "colab": {}
      },
      "source": [
        "m = 60000\n",
        "m_test = X.shape[0] - m\n",
        "\n",
        "X_train, X_test = X[:m].T, X[m:].T\n",
        "y_train, y_test = y[:m].reshape(1,m), y[m:].reshape(1,m_test)"
      ],
      "execution_count": 0,
      "outputs": []
    },
    {
      "cell_type": "code",
      "metadata": {
        "id": "ptsdzONCRqz6",
        "colab_type": "code",
        "colab": {}
      },
      "source": [
        "np.random.seed(138)\n",
        "shuffle_index = np.random.permutation(m)\n",
        "X_train, y_train = X_train[:,shuffle_index], y_train[:,shuffle_index]"
      ],
      "execution_count": 0,
      "outputs": []
    },
    {
      "cell_type": "code",
      "metadata": {
        "id": "eQjMbjvxRq2y",
        "colab_type": "code",
        "colab": {
          "base_uri": "https://localhost:8080/",
          "height": 265
        },
        "outputId": "d55ad3c6-a8c3-4b7c-b120-0bfefccf6255"
      },
      "source": [
        "%matplotlib inline\n",
        "import matplotlib\n",
        "import matplotlib.pyplot as plt\n",
        "\n",
        "i = 3\n",
        "plt.imshow(X_train[:,i].reshape(28,28), cmap = matplotlib.cm.binary)\n",
        "plt.axis(\"off\")\n",
        "plt.show()\n",
        "print(y_train[:,i])"
      ],
      "execution_count": 6,
      "outputs": [
        {
          "output_type": "display_data",
          "data": {
            "image/png": "[encoded data removed]",
            "text/plain": [
              "<Figure size 432x288 with 1 Axes>"
            ]
          },
          "metadata": {
            "tags": []
          }
        },
        {
          "output_type": "stream",
          "text": [
            "[1.]\n"
          ],
          "name": "stdout"
        }
      ]
    },
    {
      "cell_type": "code",
      "metadata": {
        "id": "g10Shr_xRq59",
        "colab_type": "code",
        "colab": {}
      },
      "source": [
        "def sigmoid(z):\n",
        "    s = 1 / (1 + np.exp(-z))\n",
        "    return s"
      ],
      "execution_count": 0,
      "outputs": []
    },
    {
      "cell_type": "code",
      "metadata": {
        "id": "ciMYuCHJRq_-",
        "colab_type": "code",
        "colab": {}
      },
      "source": [
        "def compute_loss(Y, Y_hat):\n",
        "\n",
        "    m = Y.shape[1]\n",
        "    L = -(1./m) * ( np.sum( np.multiply(np.log(Y_hat),Y) ) + np.sum( np.multiply(np.log(1-Y_hat),(1-Y)) ) )\n",
        "\n",
        "    return L"
      ],
      "execution_count": 0,
      "outputs": []
    },
    {
      "cell_type": "code",
      "metadata": {
        "id": "2MY7HCIXR9Qm",
        "colab_type": "code",
        "colab": {
          "base_uri": "https://localhost:8080/",
          "height": 370
        },
        "outputId": "e76a699c-bd0c-4212-cc7b-77fe55205533"
      },
      "source": [
        "learning_rate = 1\n",
        "\n",
        "X = X_train\n",
        "Y = y_train\n",
        "\n",
        "n_x = X.shape[0]\n",
        "m = X.shape[1]\n",
        "\n",
        "W = np.random.randn(n_x, 1) * 0.01\n",
        "b = np.zeros((1, 1))\n",
        "\n",
        "for i in range(2000):\n",
        "    Z = np.matmul(W.T, X) + b\n",
        "    A = sigmoid(Z)\n",
        "\n",
        "    cost = compute_loss(Y, A)\n",
        "\n",
        "    dW = (1/m) * np.matmul(X, (A-Y).T)\n",
        "    db = (1/m) * np.sum(A-Y, axis=1, keepdims=True)\n",
        "\n",
        "    W = W - learning_rate * dW\n",
        "    b = b - learning_rate * db\n",
        "\n",
        "    if (i % 100 == 0):\n",
        "        print(\"Epoch\", i, \"cost: \", cost)\n",
        "\n",
        "print(\"Final cost:\", cost)"
      ],
      "execution_count": 9,
      "outputs": [
        {
          "output_type": "stream",
          "text": [
            "Epoch 0 cost:  0.6840801595436431\n",
            "Epoch 100 cost:  0.041305162058342754\n",
            "Epoch 200 cost:  0.03578100961598483\n",
            "Epoch 300 cost:  0.03321767707346867\n",
            "Epoch 400 cost:  0.031618250521307165\n",
            "Epoch 500 cost:  0.030479879921669624\n",
            "Epoch 600 cost:  0.029609158581624707\n",
            "Epoch 700 cost:  0.028912781392366863\n",
            "Epoch 800 cost:  0.028338723798575546\n",
            "Epoch 900 cost:  0.027854953682088075\n",
            "Epoch 1000 cost:  0.02744030579355481\n",
            "Epoch 1100 cost:  0.027080051475541836\n",
            "Epoch 1200 cost:  0.02676353157328078\n",
            "Epoch 1300 cost:  0.026482792781261255\n",
            "Epoch 1400 cost:  0.026231753648863553\n",
            "Epoch 1500 cost:  0.026005669485284065\n",
            "Epoch 1600 cost:  0.02580077544360537\n",
            "Epoch 1700 cost:  0.02561404072768779\n",
            "Epoch 1800 cost:  0.02544299474890846\n",
            "Epoch 1900 cost:  0.025285601356506867\n",
            "Final cost: 0.025141566084818247\n"
          ],
          "name": "stdout"
        }
      ]
    },
    {
      "cell_type": "code",
      "metadata": {
        "id": "PzEGOCuzR9a6",
        "colab_type": "code",
        "colab": {
          "base_uri": "https://localhost:8080/",
          "height": 50
        },
        "outputId": "681aa707-4bbb-4163-9c15-aef60fc0be52"
      },
      "source": [
        "from sklearn.metrics import classification_report, confusion_matrix\n",
        "\n",
        "Z = np.matmul(W.T, X_test) + b\n",
        "A = sigmoid(Z)\n",
        "\n",
        "predictions = (A>.5)[0,:]\n",
        "labels = (y_test == 1)[0,:]\n",
        "\n",
        "print(confusion_matrix(predictions, labels))"
      ],
      "execution_count": 10,
      "outputs": [
        {
          "output_type": "stream",
          "text": [
            "[[8980   33]\n",
            " [  40  947]]\n"
          ],
          "name": "stdout"
        }
      ]
    },
    {
      "cell_type": "code",
      "metadata": {
        "id": "enjGOURYRrC3",
        "colab_type": "code",
        "colab": {
          "base_uri": "https://localhost:8080/",
          "height": 168
        },
        "outputId": "bd939935-8ad5-440f-94ca-b5574eaedbc4"
      },
      "source": [
        "print(classification_report(predictions, labels))"
      ],
      "execution_count": 11,
      "outputs": [
        {
          "output_type": "stream",
          "text": [
            "              precision    recall  f1-score   support\n",
            "\n",
            "       False       1.00      1.00      1.00      9013\n",
            "        True       0.97      0.96      0.96       987\n",
            "\n",
            "    accuracy                           0.99     10000\n",
            "   macro avg       0.98      0.98      0.98     10000\n",
            "weighted avg       0.99      0.99      0.99     10000\n",
            "\n"
          ],
          "name": "stdout"
        }
      ]
    },
    {
      "cell_type": "code",
      "metadata": {
        "id": "EjbW9QuqSGM8",
        "colab_type": "code",
        "colab": {
          "base_uri": "https://localhost:8080/",
          "height": 608
        },
        "outputId": "297a73ff-b617-4396-db8d-a6cc61256147"
      },
      "source": [
        "X = X_train\n",
        "Y = y_train\n",
        "\n",
        "n_x = X.shape[0]\n",
        "n_h = 64\n",
        "learning_rate = 1\n",
        "\n",
        "W1 = np.random.randn(n_h, n_x)\n",
        "b1 = np.zeros((n_h, 1))\n",
        "W2 = np.random.randn(1, n_h)\n",
        "b2 = np.zeros((1, 1))\n",
        "\n",
        "for i in range(2000):\n",
        "\n",
        "    Z1 = np.matmul(W1, X) + b1\n",
        "    A1 = sigmoid(Z1)\n",
        "    Z2 = np.matmul(W2, A1) + b2\n",
        "    A2 = sigmoid(Z2)\n",
        "\n",
        "    cost = compute_loss(Y, A2)\n",
        "\n",
        "    dZ2 = A2-Y\n",
        "    dW2 = (1./m) * np.matmul(dZ2, A1.T)\n",
        "    db2 = (1./m) * np.sum(dZ2, axis=1, keepdims=True)\n",
        "\n",
        "    dA1 = np.matmul(W2.T, dZ2)\n",
        "    dZ1 = dA1 * sigmoid(Z1) * (1 - sigmoid(Z1))\n",
        "    dW1 = (1./m) * np.matmul(dZ1, X.T)\n",
        "    db1 = (1./m) * np.sum(dZ1, axis=1, keepdims=True)\n",
        "\n",
        "    W2 = W2 - learning_rate * dW2\n",
        "    b2 = b2 - learning_rate * db2\n",
        "    W1 = W1 - learning_rate * dW1\n",
        "    b1 = b1 - learning_rate * db1\n",
        "\n",
        "    if i % 100 == 0:\n",
        "        print(\"Epoch\", i, \"cost: \", cost)\n",
        "\n",
        "print(\"Final cost:\", cost)\n",
        "Z1 = np.matmul(W1, X_test) + b1\n",
        "A1 = sigmoid(Z1)\n",
        "Z2 = np.matmul(W2, A1) + b2\n",
        "A2 = sigmoid(Z2)\n",
        "\n",
        "predictions = (A2>.5)[0,:]\n",
        "labels = (y_test == 1)[0,:]\n",
        "\n",
        "print(confusion_matrix(predictions, labels))\n",
        "print(classification_report(predictions, labels))"
      ],
      "execution_count": 20,
      "outputs": [
        {
          "output_type": "stream",
          "text": [
            "Epoch 0 cost:  3.1834449726619134\n",
            "Epoch 100 cost:  0.36194938156541195\n",
            "Epoch 200 cost:  0.3363752372712263\n",
            "Epoch 300 cost:  0.32832568871385226\n",
            "Epoch 400 cost:  0.32512272160762395\n",
            "Epoch 500 cost:  0.3236596379771453\n",
            "Epoch 600 cost:  0.32292011469382653\n",
            "Epoch 700 cost:  0.32251278464034194\n",
            "Epoch 800 cost:  0.32226983573771023\n",
            "Epoch 900 cost:  0.32211345603640307\n",
            "Epoch 1000 cost:  0.32200521670863586\n",
            "Epoch 1100 cost:  0.3219250853402025\n",
            "Epoch 1200 cost:  0.3218621163461469\n",
            "Epoch 1300 cost:  0.3218100794737228\n",
            "Epoch 1400 cost:  0.3217652985380976\n",
            "Epoch 1500 cost:  0.32172553181525604\n",
            "Epoch 1600 cost:  0.321689368149367\n",
            "Epoch 1700 cost:  0.3216558902506108\n",
            "Epoch 1800 cost:  0.3216244818739731\n",
            "Epoch 1900 cost:  0.3215947148706152\n",
            "Final cost: 0.32156656016368024\n",
            "[[9020  980]\n",
            " [   0    0]]\n",
            "              precision    recall  f1-score   support\n",
            "\n",
            "       False       1.00      0.90      0.95     10000\n",
            "        True       0.00      0.00      0.00         0\n",
            "\n",
            "    accuracy                           0.90     10000\n",
            "   macro avg       0.50      0.45      0.47     10000\n",
            "weighted avg       1.00      0.90      0.95     10000\n",
            "\n"
          ],
          "name": "stdout"
        },
        {
          "output_type": "stream",
          "text": [
            "/usr/local/lib/python3.6/dist-packages/sklearn/metrics/classification.py:1439: UndefinedMetricWarning: Recall and F-score are ill-defined and being set to 0.0 in labels with no true samples.\n",
            "  'recall', 'true', average, warn_for)\n"
          ],
          "name": "stderr"
        }
      ]
    },
    {
      "cell_type": "code",
      "metadata": {
        "id": "4PeONklsSGVF",
        "colab_type": "code",
        "colab": {
          "base_uri": "https://localhost:8080/",
          "height": 104
        },
        "outputId": "99ed2b52-6bfc-43c4-ad27-5377ddd478a4"
      },
      "source": [
        "mnist = fetch_mldata('MNIST original')\n",
        "X, y = mnist[\"data\"], mnist[\"target\"]\n",
        "\n",
        "X = X / 255"
      ],
      "execution_count": 21,
      "outputs": [
        {
          "output_type": "stream",
          "text": [
            "/usr/local/lib/python3.6/dist-packages/sklearn/utils/deprecation.py:85: DeprecationWarning: Function fetch_mldata is deprecated; fetch_mldata was deprecated in version 0.20 and will be removed in version 0.22. Please use fetch_openml.\n",
            "  warnings.warn(msg, category=DeprecationWarning)\n",
            "/usr/local/lib/python3.6/dist-packages/sklearn/utils/deprecation.py:85: DeprecationWarning: Function mldata_filename is deprecated; mldata_filename was deprecated in version 0.20 and will be removed in version 0.22. Please use fetch_openml.\n",
            "  warnings.warn(msg, category=DeprecationWarning)\n"
          ],
          "name": "stderr"
        }
      ]
    },
    {
      "cell_type": "code",
      "metadata": {
        "id": "RMJja1U0Rq9J",
        "colab_type": "code",
        "colab": {}
      },
      "source": [
        "digits = 10\n",
        "examples = y.shape[0]\n",
        "\n",
        "y = y.reshape(1, examples)\n",
        "\n",
        "Y_new = np.eye(digits)[y.astype('int32')]\n",
        "Y_new = Y_new.T.reshape(digits, examples)"
      ],
      "execution_count": 0,
      "outputs": []
    },
    {
      "cell_type": "code",
      "metadata": {
        "id": "lPvRjCHPSRAc",
        "colab_type": "code",
        "colab": {}
      },
      "source": [
        "m = 60000\n",
        "m_test = X.shape[0] - m\n",
        "\n",
        "X_train, X_test = X[:m].T, X[m:].T\n",
        "Y_train, Y_test = Y_new[:,:m], Y_new[:,m:]\n",
        "\n",
        "shuffle_index = np.random.permutation(m)\n",
        "X_train, Y_train = X_train[:, shuffle_index], Y_train[:, shuffle_index]"
      ],
      "execution_count": 0,
      "outputs": []
    },
    {
      "cell_type": "code",
      "metadata": {
        "id": "_6pwr8JQSRER",
        "colab_type": "code",
        "colab": {
          "base_uri": "https://localhost:8080/",
          "height": 265
        },
        "outputId": "7a0c00ab-6c22-408c-912c-cae6a1d3bbd2"
      },
      "source": [
        "i = 12\n",
        "plt.imshow(X_train[:,i].reshape(28,28), cmap = matplotlib.cm.binary)\n",
        "plt.axis(\"off\")\n",
        "plt.show()\n",
        "Y_train[:,i]"
      ],
      "execution_count": 24,
      "outputs": [
        {
          "output_type": "display_data",
          "data": {
            "image/png": "[encoded data removed]",
            "text/plain": [
              "<Figure size 432x288 with 1 Axes>"
            ]
          },
          "metadata": {
            "tags": []
          }
        },
        {
          "output_type": "execute_result",
          "data": {
            "text/plain": [
              "array([0., 1., 0., 0., 0., 0., 0., 0., 0., 0.])"
            ]
          },
          "metadata": {
            "tags": []
          },
          "execution_count": 24
        }
      ]
    },
    {
      "cell_type": "code",
      "metadata": {
        "id": "2vPyUuKbSRMB",
        "colab_type": "code",
        "colab": {}
      },
      "source": [
        "def compute_multiclass_loss(Y, Y_hat):\n",
        "\n",
        "    L_sum = np.sum(np.multiply(Y, np.log(Y_hat)))\n",
        "    m = Y.shape[1]\n",
        "    L = -(1/m) * L_sum\n",
        "\n",
        "    return L"
      ],
      "execution_count": 0,
      "outputs": []
    },
    {
      "cell_type": "code",
      "metadata": {
        "id": "7aMs9t-RSaT6",
        "colab_type": "code",
        "colab": {}
      },
      "source": [
        ""
      ],
      "execution_count": 0,
      "outputs": []
    },
    {
      "cell_type": "code",
      "metadata": {
        "id": "IZbneAz5SaFT",
        "colab_type": "code",
        "colab": {}
      },
      "source": [
        ""
      ],
      "execution_count": 0,
      "outputs": []
    }
  ]
}