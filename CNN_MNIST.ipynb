{
  "nbformat": 4,
  "nbformat_minor": 0,
  "metadata": {
    "colab": {
      "name": "CNN_mnist.ipynb",
      "provenance": []
    },
    "kernelspec": {
      "name": "python3",
      "display_name": "Python 3"
    }
  },
  "cells": [
    {
      "cell_type": "code",
      "metadata": {
        "id": "7RHvFH56nNGK",
        "colab_type": "code",
        "colab": {}
      },
      "source": [
        "#Loading the dataset\n",
        "from keras.datasets import mnist\n",
        "#download mnist data and split into train and test sets\n",
        "(X_train, y_train), (X_test, y_test) = mnist.load_data()"
      ],
      "execution_count": 0,
      "outputs": []
    },
    {
      "cell_type": "code",
      "metadata": {
        "id": "E5ZX5b-cncdr",
        "colab_type": "code",
        "colab": {
          "base_uri": "https://localhost:8080/",
          "height": 282
        },
        "outputId": "03f0e961-87a2-4814-de64-28f4e3ac1f1e"
      },
      "source": [
        "#Exploratory data analysis\n",
        "import matplotlib.pyplot as plt\n",
        "#plot the first image in the dataset\n",
        "plt.imshow(X_train[0])"
      ],
      "execution_count": 2,
      "outputs": [
        {
          "output_type": "execute_result",
          "data": {
            "text/plain": [
              "<matplotlib.image.AxesImage at 0x7f96b58636a0>"
            ]
          },
          "metadata": {
            "tags": []
          },
          "execution_count": 2
        },
        {
          "output_type": "display_data",
          "data": {
            "image/png": "iVBORw0KGgoAAAANSUhEUgAAAPsAAAD4CAYAAAAq5pAIAAAABHNCSVQICAgIfAhkiAAAAAlwSFlz\nAAALEgAACxIB0t1+/AAAADh0RVh0U29mdHdhcmUAbWF0cGxvdGxpYiB2ZXJzaW9uMy4xLjIsIGh0\ndHA6Ly9tYXRwbG90bGliLm9yZy8li6FKAAAOZ0lEQVR4nO3dbYxc5XnG8euKbezamMQbB9chLjjg\nFAg0Jl0ZEBZQobgOqgSoCsSKIkJpnSY4Ca0rQWlV3IpWbpUQUUqRTHExFS+BBIQ/0CTUQpCowWWh\nBgwEDMY0NmaNWYENIX5Z3/2w42iBnWeXmTMv3vv/k1Yzc+45c24NXD5nznNmHkeEAIx/H+p0AwDa\ng7ADSRB2IAnCDiRB2IEkJrZzY4d5ckzRtHZuEkjlV3pbe2OPR6o1FXbbiyVdJ2mCpH+LiJWl50/R\nNJ3qc5rZJICC9bGubq3hw3jbEyTdIOnzkk6UtMT2iY2+HoDWauYz+wJJL0TE5ojYK+lOSedV0xaA\nqjUT9qMk/WLY4621Ze9ie6ntPtt9+7Snic0BaEbLz8ZHxKqI6I2I3kma3OrNAaijmbBvkzRn2ONP\n1JYB6ELNhP1RSfNsz7V9mKQvSlpbTVsAqtbw0FtE7Le9TNKPNDT0tjoinq6sMwCVamqcPSLul3R/\nRb0AaCEulwWSIOxAEoQdSIKwA0kQdiAJwg4kQdiBJAg7kARhB5Ig7EAShB1IgrADSRB2IAnCDiRB\n2IEkCDuQBGEHkiDsQBKEHUiCsANJEHYgCcIOJEHYgSQIO5AEYQeSIOxAEoQdSIKwA0kQdiCJpmZx\nRffzxPJ/4gkfm9nS7T/3F8fUrQ1OPVBc9+hjdxTrU7/uYv3Vaw+rW3u893vFdXcOvl2sn3r38mL9\nuD9/pFjvhKbCbnuLpN2SBiXtj4jeKpoCUL0q9uy/FxE7K3gdAC3EZ3YgiWbDHpJ+bPsx20tHeoLt\npbb7bPft054mNwegUc0exi+MiG22j5T0gO2fR8TDw58QEaskrZKkI9wTTW4PQIOa2rNHxLba7Q5J\n90paUEVTAKrXcNhtT7M9/eB9SYskbayqMQDVauYwfpake20ffJ3bI+KHlXQ1zkw4YV6xHpMnFeuv\nnPWRYv2d0+qPCfd8uDxe/JPPlMebO+k/fzm9WP/Hf1lcrK8/+fa6tZf2vVNcd2X/54r1j//k0PtE\n2nDYI2KzpM9U2AuAFmLoDUiCsANJEHYgCcIOJEHYgST4imsFBs/+bLF+7S03FOufmlT/q5jj2b4Y\nLNb/5vqvFOsT3y4Pf51+97K6tenb9hfXnbyzPDQ3tW99sd6N2LMDSRB2IAnCDiRB2IEkCDuQBGEH\nkiDsQBKMs1dg8nOvFOuP/WpOsf6pSf1VtlOp5dtPK9Y3v1X+Kepbjv1+3dqbB8rj5LP++b+L9VY6\n9L7AOjr27EAShB1IgrADSRB2IAnCDiRB2IEkCDuQhCPaN6J4hHviVJ/Ttu11i4FLTi/Wdy0u/9zz\nhCcPL9af+Pr1H7ing67Z+TvF+qNnlcfRB994s1iP0+v/APGWbxZX1dwlT5SfgPdZH+u0KwZGnMua\nPTuQBGEHkiDsQBKEHUiCsANJEHYgCcIOJME4exeYMPOjxfrg6wPF+ku31x8rf/rM1cV1F/zDN4r1\nI2/o3HfK8cE1Nc5ue7XtHbY3DlvWY/sB25tqtzOqbBhA9cZyGH+LpPfOen+lpHURMU/SutpjAF1s\n1LBHxMOS3nsceZ6kNbX7aySdX3FfACrW6G/QzYqI7bX7r0qaVe+JtpdKWipJUzS1wc0BaFbTZ+Nj\n6Axf3bN8EbEqInojoneSJje7OQANajTs/bZnS1Ltdkd1LQFohUbDvlbSxbX7F0u6r5p2ALTKqJ/Z\nbd8h6WxJM21vlXS1pJWS7rJ9qaSXJV3YyibHu8Gdrze1/r5djc/v/ukvPVOsv3bjhPILHCjPsY7u\nMWrYI2JJnRJXxwCHEC6XBZIg7EAShB1IgrADSRB2IAmmbB4HTrji+bq1S04uD5r8+9HrivWzvnBZ\nsT79e48U6+ge7NmBJAg7kARhB5Ig7EAShB1IgrADSRB2IAnG2ceB0rTJr3/thOK6/7f2nWL9ymtu\nLdb/8sILivX43w/Xrc35+58V11Ubf+Y8A/bsQBKEHUiCsANJEHYgCcIOJEHYgSQIO5AEUzYnN/BH\npxfrt1397WJ97sQpDW/707cuK9bn3bS9WN+/eUvD2x6vmpqyGcD4QNiBJAg7kARhB5Ig7EAShB1I\ngrADSTDOjqI4Y36xfsTKrcX6HZ/8UcPbPv7BPy7Wf/tv63+PX5IGN21ueNuHqqbG2W2vtr3D9sZh\ny1bY3mZ7Q+3v3CobBlC9sRzG3yJp8QjLvxsR82t/91fbFoCqjRr2iHhY0kAbegHQQs2coFtm+8na\nYf6Mek+yvdR2n+2+fdrTxOYANKPRsN8o6VhJ8yVtl/Sdek+MiFUR0RsRvZM0ucHNAWhWQ2GPiP6I\nGIyIA5JukrSg2rYAVK2hsNuePezhBZI21nsugO4w6ji77TsknS1ppqR+SVfXHs+XFJK2SPpqRJS/\nfCzG2cejCbOOLNZfuei4urX1V1xXXPdDo+yLvvTSomL9zYWvF+vjUWmcfdRJIiJiyQiLb266KwBt\nxeWyQBKEHUiCsANJEHYgCcIOJMFXXNExd20tT9k81YcV67+MvcX6H3zj8vqvfe/64rqHKn5KGgBh\nB7Ig7EAShB1IgrADSRB2IAnCDiQx6rfekNuBheWfkn7xC+Upm0+av6VubbRx9NFcP3BKsT71vr6m\nXn+8Yc8OJEHYgSQIO5AEYQeSIOxAEoQdSIKwA0kwzj7OufekYv35b5bHum86Y02xfuaU8nfKm7En\n9hXrjwzMLb/AgVF/3TwV9uxAEoQdSIKwA0kQdiAJwg4kQdiBJAg7kATj7IeAiXOPLtZfvOTjdWsr\nLrqzuO4fHr6zoZ6qcFV/b7H+0HWnFesz1pR/dx7vNuqe3fYc2w/afsb207a/VVveY/sB25tqtzNa\n3y6ARo3lMH6/pOURcaKk0yRdZvtESVdKWhcR8yStqz0G0KVGDXtEbI+Ix2v3d0t6VtJRks6TdPBa\nyjWSzm9VkwCa94E+s9s+RtIpktZLmhURBy8+flXSrDrrLJW0VJKmaGqjfQJo0pjPxts+XNIPJF0e\nEbuG12JodsgRZ4iMiFUR0RsRvZM0ualmATRuTGG3PUlDQb8tIu6pLe63PbtWny1pR2taBFCFUQ/j\nbVvSzZKejYhrh5XWSrpY0sra7X0t6XAcmHjMbxXrb/7u7GL9or/7YbH+px+5p1hvpeXby8NjP/vX\n+sNrPbf8T3HdGQcYWqvSWD6znyHpy5Kesr2htuwqDYX8LtuXSnpZ0oWtaRFAFUYNe0T8VNKIk7tL\nOqfadgC0CpfLAkkQdiAJwg4kQdiBJAg7kARfcR2jibN/s25tYPW04rpfm/tQsb5ken9DPVVh2baF\nxfrjN5anbJ75/Y3Fes9uxsq7BXt2IAnCDiRB2IEkCDuQBGEHkiDsQBKEHUgizTj73t8v/2zx3j8b\nKNavOu7+urVFv/F2Qz1VpX/wnbq1M9cuL657/F//vFjveaM8Tn6gWEU3Yc8OJEHYgSQIO5AEYQeS\nIOxAEoQdSIKwA0mkGWffcn7537XnT767Zdu+4Y1ji/XrHlpUrHuw3o/7Djn+mpfq1ub1ry+uO1is\nYjxhzw4kQdiBJAg7kARhB5Ig7EAShB1IgrADSTgiyk+w50i6VdIsSSFpVURcZ3uFpD+R9FrtqVdF\nRP0vfUs6wj1xqpn4FWiV9bFOu2JgxAszxnJRzX5JyyPicdvTJT1m+4Fa7bsR8e2qGgXQOmOZn327\npO21+7ttPyvpqFY3BqBaH+gzu+1jJJ0i6eA1mMtsP2l7te0ZddZZarvPdt8+7WmqWQCNG3PYbR8u\n6QeSLo+IXZJulHSspPka2vN/Z6T1ImJVRPRGRO8kTa6gZQCNGFPYbU/SUNBvi4h7JCki+iNiMCIO\nSLpJ0oLWtQmgWaOG3bYl3Szp2Yi4dtjy2cOedoGk8nSeADpqLGfjz5D0ZUlP2d5QW3aVpCW252to\nOG6LpK+2pEMAlRjL2fifShpp3K44pg6gu3AFHZAEYQeSIOxAEoQdSIKwA0kQdiAJwg4kQdiBJAg7\nkARhB5Ig7EAShB1IgrADSRB2IIlRf0q60o3Zr0l6ediimZJ2tq2BD6Zbe+vWviR6a1SVvR0dER8b\nqdDWsL9v43ZfRPR2rIGCbu2tW/uS6K1R7eqNw3ggCcIOJNHpsK/q8PZLurW3bu1LordGtaW3jn5m\nB9A+nd6zA2gTwg4k0ZGw215s+znbL9i+shM91GN7i+2nbG+w3dfhXlbb3mF747BlPbYfsL2pdjvi\nHHsd6m2F7W21926D7XM71Nsc2w/afsb207a/VVve0feu0Fdb3re2f2a3PUHS85I+J2mrpEclLYmI\nZ9raSB22t0jqjYiOX4Bh+0xJb0m6NSJOqi37J0kDEbGy9g/ljIi4okt6WyHprU5P412brWj28GnG\nJZ0v6Svq4HtX6OtCteF968SefYGkFyJic0TslXSnpPM60EfXi4iHJQ28Z/F5ktbU7q/R0P8sbVen\nt64QEdsj4vHa/d2SDk4z3tH3rtBXW3Qi7EdJ+sWwx1vVXfO9h6Qf237M9tJONzOCWRGxvXb/VUmz\nOtnMCEadxrud3jPNeNe8d41Mf94sTtC938KI+Kykz0u6rHa42pVi6DNYN42djmka73YZYZrxX+vk\ne9fo9OfN6kTYt0maM+zxJ2rLukJEbKvd7pB0r7pvKur+gzPo1m53dLifX+umabxHmmZcXfDedXL6\n806E/VFJ82zPtX2YpC9KWtuBPt7H9rTaiRPZniZpkbpvKuq1ki6u3b9Y0n0d7OVdumUa73rTjKvD\n713Hpz+PiLb/STpXQ2fkX5T0V53ooU5fn5T0RO3v6U73JukODR3W7dPQuY1LJX1U0jpJmyT9l6Se\nLurtPyQ9JelJDQVrdod6W6ihQ/QnJW2o/Z3b6feu0Fdb3jculwWS4AQdkARhB5Ig7EAShB1IgrAD\nSRB2IAnCDiTx/65XcTNOWsh5AAAAAElFTkSuQmCC\n",
            "text/plain": [
              "<Figure size 432x288 with 1 Axes>"
            ]
          },
          "metadata": {
            "tags": []
          }
        }
      ]
    },
    {
      "cell_type": "code",
      "metadata": {
        "id": "URLINcmwnnSq",
        "colab_type": "code",
        "colab": {
          "base_uri": "https://localhost:8080/",
          "height": 34
        },
        "outputId": "9e6ad581-9e7a-4536-92c1-930dc459e1f7"
      },
      "source": [
        "#check image shape\n",
        "X_train[0].shape"
      ],
      "execution_count": 3,
      "outputs": [
        {
          "output_type": "execute_result",
          "data": {
            "text/plain": [
              "(28, 28)"
            ]
          },
          "metadata": {
            "tags": []
          },
          "execution_count": 3
        }
      ]
    },
    {
      "cell_type": "code",
      "metadata": {
        "id": "xKoJK8-hnp3H",
        "colab_type": "code",
        "colab": {}
      },
      "source": [
        "#Data pre-processing\n",
        "#reshape data to fit model\n",
        "X_train = X_train.reshape(60000,28,28,1)\n",
        "X_test = X_test.reshape(10000,28,28,1)"
      ],
      "execution_count": 0,
      "outputs": []
    },
    {
      "cell_type": "code",
      "metadata": {
        "id": "ojpK82dEnx06",
        "colab_type": "code",
        "colab": {
          "base_uri": "https://localhost:8080/",
          "height": 34
        },
        "outputId": "fee29f7f-146d-4529-b7b7-bc7be840bd81"
      },
      "source": [
        "from keras.utils import to_categorical\n",
        "#one-hot encode target column\n",
        "y_train = to_categorical(y_train)\n",
        "y_test = to_categorical(y_test)\n",
        "y_train[0]"
      ],
      "execution_count": 5,
      "outputs": [
        {
          "output_type": "execute_result",
          "data": {
            "text/plain": [
              "array([0., 0., 0., 0., 0., 1., 0., 0., 0., 0.], dtype=float32)"
            ]
          },
          "metadata": {
            "tags": []
          },
          "execution_count": 5
        }
      ]
    },
    {
      "cell_type": "code",
      "metadata": {
        "id": "KBENncS8n0em",
        "colab_type": "code",
        "colab": {
          "base_uri": "https://localhost:8080/",
          "height": 104
        },
        "outputId": "fe740ff5-5e46-49ed-c6d3-5d95eaa9fb9d"
      },
      "source": [
        "#Building the model\n",
        "from keras.models import Sequential\n",
        "from keras.layers import Dense, Conv2D, Flatten\n",
        "#create model\n",
        "model = Sequential()\n",
        "#add model layers\n",
        "model.add(Conv2D(64, kernel_size=3, activation='relu' , input_shape=(28,28,1)))\n",
        "model.add(Conv2D(32, kernel_size=3, activation='relu'))\n",
        "model.add(Flatten())\n",
        "model.add(Dense(10, activation='softmax'))"
      ],
      "execution_count": 9,
      "outputs": [
        {
          "output_type": "stream",
          "text": [
            "WARNING:tensorflow:From /usr/local/lib/python3.6/dist-packages/keras/backend/tensorflow_backend.py:541: The name tf.placeholder is deprecated. Please use tf.compat.v1.placeholder instead.\n",
            "\n",
            "WARNING:tensorflow:From /usr/local/lib/python3.6/dist-packages/keras/backend/tensorflow_backend.py:4432: The name tf.random_uniform is deprecated. Please use tf.random.uniform instead.\n",
            "\n"
          ],
          "name": "stdout"
        }
      ]
    },
    {
      "cell_type": "code",
      "metadata": {
        "id": "sRApWJ9yn6po",
        "colab_type": "code",
        "colab": {
          "base_uri": "https://localhost:8080/",
          "height": 104
        },
        "outputId": "ffbd4d11-ccc3-4cbb-9973-13eff757a96e"
      },
      "source": [
        "#Compiling the model\n",
        "#compile model using accuracy to measure model performance\n",
        "model.compile(optimizer='adam', loss='categorical_crossentropy', metrics=['accuracy'])"
      ],
      "execution_count": 10,
      "outputs": [
        {
          "output_type": "stream",
          "text": [
            "WARNING:tensorflow:From /usr/local/lib/python3.6/dist-packages/keras/optimizers.py:793: The name tf.train.Optimizer is deprecated. Please use tf.compat.v1.train.Optimizer instead.\n",
            "\n",
            "WARNING:tensorflow:From /usr/local/lib/python3.6/dist-packages/keras/backend/tensorflow_backend.py:3576: The name tf.log is deprecated. Please use tf.math.log instead.\n",
            "\n"
          ],
          "name": "stdout"
        }
      ]
    },
    {
      "cell_type": "code",
      "metadata": {
        "id": "jEbIhKQSn6tX",
        "colab_type": "code",
        "colab": {
          "base_uri": "https://localhost:8080/",
          "height": 490
        },
        "outputId": "ef91577c-65c9-4106-bf03-8b7d7c9abd31"
      },
      "source": [
        "#Training the model\n",
        "#train the model\n",
        "model.fit(X_train, y_train, validation_data=(X_test, y_test), epochs=3)"
      ],
      "execution_count": 11,
      "outputs": [
        {
          "output_type": "stream",
          "text": [
            "WARNING:tensorflow:From /usr/local/lib/python3.6/dist-packages/tensorflow_core/python/ops/math_grad.py:1424: where (from tensorflow.python.ops.array_ops) is deprecated and will be removed in a future version.\n",
            "Instructions for updating:\n",
            "Use tf.where in 2.0, which has the same broadcast rule as np.where\n",
            "WARNING:tensorflow:From /usr/local/lib/python3.6/dist-packages/keras/backend/tensorflow_backend.py:1033: The name tf.assign_add is deprecated. Please use tf.compat.v1.assign_add instead.\n",
            "\n",
            "WARNING:tensorflow:From /usr/local/lib/python3.6/dist-packages/keras/backend/tensorflow_backend.py:1020: The name tf.assign is deprecated. Please use tf.compat.v1.assign instead.\n",
            "\n",
            "WARNING:tensorflow:From /usr/local/lib/python3.6/dist-packages/keras/backend/tensorflow_backend.py:3005: The name tf.Session is deprecated. Please use tf.compat.v1.Session instead.\n",
            "\n",
            "Train on 60000 samples, validate on 10000 samples\n",
            "Epoch 1/3\n",
            "WARNING:tensorflow:From /usr/local/lib/python3.6/dist-packages/keras/backend/tensorflow_backend.py:190: The name tf.get_default_session is deprecated. Please use tf.compat.v1.get_default_session instead.\n",
            "\n",
            "WARNING:tensorflow:From /usr/local/lib/python3.6/dist-packages/keras/backend/tensorflow_backend.py:197: The name tf.ConfigProto is deprecated. Please use tf.compat.v1.ConfigProto instead.\n",
            "\n",
            "WARNING:tensorflow:From /usr/local/lib/python3.6/dist-packages/keras/backend/tensorflow_backend.py:207: The name tf.global_variables is deprecated. Please use tf.compat.v1.global_variables instead.\n",
            "\n",
            "WARNING:tensorflow:From /usr/local/lib/python3.6/dist-packages/keras/backend/tensorflow_backend.py:216: The name tf.is_variable_initialized is deprecated. Please use tf.compat.v1.is_variable_initialized instead.\n",
            "\n",
            "WARNING:tensorflow:From /usr/local/lib/python3.6/dist-packages/keras/backend/tensorflow_backend.py:223: The name tf.variables_initializer is deprecated. Please use tf.compat.v1.variables_initializer instead.\n",
            "\n",
            "60000/60000 [==============================] - 178s 3ms/step - loss: 14.2554 - acc: 0.1155 - val_loss: 14.3356 - val_acc: 0.1105\n",
            "Epoch 2/3\n",
            "60000/60000 [==============================] - 177s 3ms/step - loss: 13.2602 - acc: 0.1773 - val_loss: 12.9928 - val_acc: 0.1939\n",
            "Epoch 3/3\n",
            "60000/60000 [==============================] - 178s 3ms/step - loss: 13.0245 - acc: 0.1919 - val_loss: 12.9928 - val_acc: 0.1939\n"
          ],
          "name": "stdout"
        },
        {
          "output_type": "execute_result",
          "data": {
            "text/plain": [
              "<keras.callbacks.History at 0x7f96a665afd0>"
            ]
          },
          "metadata": {
            "tags": []
          },
          "execution_count": 11
        }
      ]
    },
    {
      "cell_type": "code",
      "metadata": {
        "id": "yaKmKVPXoTsz",
        "colab_type": "code",
        "colab": {
          "base_uri": "https://localhost:8080/",
          "height": 84
        },
        "outputId": "e34b1086-9435-4dc8-9a06-7554bdce5299"
      },
      "source": [
        "#Using our model to make predictions\n",
        "#predict first 4 images in the test set\n",
        "model.predict(X_test[:4])\n"
      ],
      "execution_count": 17,
      "outputs": [
        {
          "output_type": "execute_result",
          "data": {
            "text/plain": [
              "array([[0., 0., 0., 0., 0., 0., 0., 0., 0., 1.],\n",
              "       [1., 0., 0., 0., 0., 0., 0., 0., 0., 0.],\n",
              "       [0., 0., 0., 0., 0., 0., 0., 0., 0., 1.],\n",
              "       [1., 0., 0., 0., 0., 0., 0., 0., 0., 0.]], dtype=float32)"
            ]
          },
          "metadata": {
            "tags": []
          },
          "execution_count": 17
        }
      ]
    },
    {
      "cell_type": "code",
      "metadata": {
        "id": "LOABFEzWsam_",
        "colab_type": "code",
        "colab": {
          "base_uri": "https://localhost:8080/",
          "height": 199
        },
        "outputId": "2a052c93-3762-4100-abda-553bf81cb416"
      },
      "source": [
        "import numpy as np\n",
        "im = model.predict(X_test[:4])\n",
        "im= im.reshape(4,10)\n",
        "plt.imshow(im)"
      ],
      "execution_count": 80,
      "outputs": [
        {
          "output_type": "execute_result",
          "data": {
            "text/plain": [
              "<matplotlib.image.AxesImage at 0x7f969f407c50>"
            ]
          },
          "metadata": {
            "tags": []
          },
          "execution_count": 80
        },
        {
          "output_type": "display_data",
          "data": {
            "image/png": "iVBORw0KGgoAAAANSUhEUgAAAWoAAAClCAYAAAB1Ebc2AAAABHNCSVQICAgIfAhkiAAAAAlwSFlz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\nAABJRU5ErkJggg==\n",
            "text/plain": [
              "<Figure size 432x288 with 1 Axes>"
            ]
          },
          "metadata": {
            "tags": []
          }
        }
      ]
    },
    {
      "cell_type": "code",
      "metadata": {
        "id": "umqtDhesn6wp",
        "colab_type": "code",
        "colab": {
          "base_uri": "https://localhost:8080/",
          "height": 199
        },
        "outputId": "6accf625-2ce7-4e6d-eeba-c3b1f99b093e"
      },
      "source": [
        "#actual results for first 4 images in test set\n",
        "y_test[:4]\n",
        "im2= y_test[:4]\n",
        "im2= im.reshape(4,10)\n",
        "plt.imshow(im2)"
      ],
      "execution_count": 64,
      "outputs": [
        {
          "output_type": "execute_result",
          "data": {
            "text/plain": [
              "<matplotlib.image.AxesImage at 0x7f969f5d29b0>"
            ]
          },
          "metadata": {
            "tags": []
          },
          "execution_count": 64
        },
        {
          "output_type": "display_data",
          "data": {
            "image/png": "iVBORw0KGgoAAAANSUhEUgAAAWoAAAClCAYAAAB1Ebc2AAAABHNCSVQICAgIfAhkiAAAAAlwSFlz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\nAABJRU5ErkJggg==\n",
            "text/plain": [
              "<Figure size 432x288 with 1 Axes>"
            ]
          },
          "metadata": {
            "tags": []
          }
        }
      ]
    },
    {
      "cell_type": "code",
      "metadata": {
        "id": "V7EYdOlbyRue",
        "colab_type": "code",
        "colab": {
          "base_uri": "https://localhost:8080/",
          "height": 178
        },
        "outputId": "9d1311ee-4c9c-4c29-b2cc-43ab38adb8f0"
      },
      "source": [
        " "
      ]
              }
      ]
    }
  ]
}
